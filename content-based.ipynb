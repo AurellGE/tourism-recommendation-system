{
 "cells": [
  {
   "cell_type": "markdown",
   "metadata": {},
   "source": [
    "# Content-Based Recommendation System for Tourist\n",
    "Aurellia Gita Elysia | 2602569722\n",
    "\n",
    "This notebook implements a **content-based filtering recommendation system** to suggest tourist spots based on their features. It uses **Reciprocal Rank Fusion (RRF)** to combine multiple ranking signals for more accurate recommendations."
   ]
  },
  {
   "cell_type": "markdown",
   "metadata": {},
   "source": [
    "# 1. Import Libraries"
   ]
  },
  {
   "cell_type": "code",
   "execution_count": 35,
   "metadata": {},
   "outputs": [
    {
     "name": "stderr",
     "output_type": "stream",
     "text": [
      "c:\\Users\\Lycia\\AppData\\Local\\Programs\\Python\\Python313\\Lib\\site-packages\\fuzzywuzzy\\fuzz.py:11: UserWarning: Using slow pure-python SequenceMatcher. Install python-Levenshtein to remove this warning\n",
      "  warnings.warn('Using slow pure-python SequenceMatcher. Install python-Levenshtein to remove this warning')\n"
     ]
    }
   ],
   "source": [
    "import pandas as pd\n",
    "import numpy as np\n",
    "import re\n",
    "import xgboost as xgb\n",
    "from sklearn.model_selection import train_test_split\n",
    "from sklearn.feature_extraction.text import TfidfVectorizer\n",
    "from sklearn.metrics.pairwise import cosine_similarity\n",
    "from Sastrawi.Stemmer.StemmerFactory import StemmerFactory\n",
    "from Sastrawi.StopWordRemover.StopWordRemoverFactory import StopWordRemoverFactory\n",
    "from fuzzywuzzy import process"
   ]
  },
  {
   "cell_type": "markdown",
   "metadata": {},
   "source": [
    "# 2. Load Dataset"
   ]
  },
  {
   "cell_type": "code",
   "execution_count": 36,
   "metadata": {},
   "outputs": [
    {
     "data": {
      "text/html": [
       "<div>\n",
       "<style scoped>\n",
       "    .dataframe tbody tr th:only-of-type {\n",
       "        vertical-align: middle;\n",
       "    }\n",
       "\n",
       "    .dataframe tbody tr th {\n",
       "        vertical-align: top;\n",
       "    }\n",
       "\n",
       "    .dataframe thead th {\n",
       "        text-align: right;\n",
       "    }\n",
       "</style>\n",
       "<table border=\"1\" class=\"dataframe\">\n",
       "  <thead>\n",
       "    <tr style=\"text-align: right;\">\n",
       "      <th></th>\n",
       "      <th>Place_Id</th>\n",
       "      <th>Place_Ratings</th>\n",
       "      <th>Place_Name</th>\n",
       "      <th>Description</th>\n",
       "      <th>Category</th>\n",
       "      <th>City</th>\n",
       "      <th>Price</th>\n",
       "      <th>Rating</th>\n",
       "      <th>Lat</th>\n",
       "      <th>Long</th>\n",
       "    </tr>\n",
       "  </thead>\n",
       "  <tbody>\n",
       "    <tr>\n",
       "      <th>0</th>\n",
       "      <td>1</td>\n",
       "      <td>3.7</td>\n",
       "      <td>Monumen Nasional</td>\n",
       "      <td>Monumen Nasional atau yang populer disingkat d...</td>\n",
       "      <td>Budaya</td>\n",
       "      <td>Jakarta</td>\n",
       "      <td>0.4</td>\n",
       "      <td>0.652174</td>\n",
       "      <td>-6.175392</td>\n",
       "      <td>106.827153</td>\n",
       "    </tr>\n",
       "    <tr>\n",
       "      <th>1</th>\n",
       "      <td>2</td>\n",
       "      <td>2.8</td>\n",
       "      <td>Kota Tua</td>\n",
       "      <td>Kota tua di Jakarta, yang juga bernama Kota Tu...</td>\n",
       "      <td>Budaya</td>\n",
       "      <td>Jakarta</td>\n",
       "      <td>0.0</td>\n",
       "      <td>0.652174</td>\n",
       "      <td>-6.137645</td>\n",
       "      <td>106.817125</td>\n",
       "    </tr>\n",
       "    <tr>\n",
       "      <th>2</th>\n",
       "      <td>3</td>\n",
       "      <td>2.5</td>\n",
       "      <td>Dunia Fantasi</td>\n",
       "      <td>Dunia Fantasi atau disebut juga Dufan adalah t...</td>\n",
       "      <td>Taman Hiburan</td>\n",
       "      <td>Jakarta</td>\n",
       "      <td>1.0</td>\n",
       "      <td>0.652174</td>\n",
       "      <td>-6.125312</td>\n",
       "      <td>106.833538</td>\n",
       "    </tr>\n",
       "    <tr>\n",
       "      <th>3</th>\n",
       "      <td>4</td>\n",
       "      <td>2.9</td>\n",
       "      <td>Taman Mini Indonesia Indah (TMII)</td>\n",
       "      <td>Taman Mini Indonesia Indah merupakan suatu kaw...</td>\n",
       "      <td>Taman Hiburan</td>\n",
       "      <td>Jakarta</td>\n",
       "      <td>0.2</td>\n",
       "      <td>0.565217</td>\n",
       "      <td>-6.302446</td>\n",
       "      <td>106.895156</td>\n",
       "    </tr>\n",
       "    <tr>\n",
       "      <th>4</th>\n",
       "      <td>5</td>\n",
       "      <td>3.5</td>\n",
       "      <td>Atlantis Water Adventure</td>\n",
       "      <td>Atlantis Water Adventure atau dikenal dengan A...</td>\n",
       "      <td>Taman Hiburan</td>\n",
       "      <td>Jakarta</td>\n",
       "      <td>1.0</td>\n",
       "      <td>0.565217</td>\n",
       "      <td>-6.124190</td>\n",
       "      <td>106.839134</td>\n",
       "    </tr>\n",
       "  </tbody>\n",
       "</table>\n",
       "</div>"
      ],
      "text/plain": [
       "   Place_Id  Place_Ratings                         Place_Name  \\\n",
       "0         1            3.7                   Monumen Nasional   \n",
       "1         2            2.8                           Kota Tua   \n",
       "2         3            2.5                      Dunia Fantasi   \n",
       "3         4            2.9  Taman Mini Indonesia Indah (TMII)   \n",
       "4         5            3.5           Atlantis Water Adventure   \n",
       "\n",
       "                                         Description       Category     City  \\\n",
       "0  Monumen Nasional atau yang populer disingkat d...         Budaya  Jakarta   \n",
       "1  Kota tua di Jakarta, yang juga bernama Kota Tu...         Budaya  Jakarta   \n",
       "2  Dunia Fantasi atau disebut juga Dufan adalah t...  Taman Hiburan  Jakarta   \n",
       "3  Taman Mini Indonesia Indah merupakan suatu kaw...  Taman Hiburan  Jakarta   \n",
       "4  Atlantis Water Adventure atau dikenal dengan A...  Taman Hiburan  Jakarta   \n",
       "\n",
       "   Price    Rating       Lat        Long  \n",
       "0    0.4  0.652174 -6.175392  106.827153  \n",
       "1    0.0  0.652174 -6.137645  106.817125  \n",
       "2    1.0  0.652174 -6.125312  106.833538  \n",
       "3    0.2  0.565217 -6.302446  106.895156  \n",
       "4    1.0  0.565217 -6.124190  106.839134  "
      ]
     },
     "execution_count": 36,
     "metadata": {},
     "output_type": "execute_result"
    }
   ],
   "source": [
    "df = pd.read_csv('cleaned_dataset.csv')\n",
    "df.head()"
   ]
  },
  {
   "cell_type": "markdown",
   "metadata": {},
   "source": [
    "# 3. Further Data Preprocessing"
   ]
  },
  {
   "cell_type": "code",
   "execution_count": 37,
   "metadata": {},
   "outputs": [],
   "source": [
    "stemmer_factory = StemmerFactory()\n",
    "stemmer = stemmer_factory.create_stemmer()\n",
    "\n",
    "stopword_factory = StopWordRemoverFactory()\n",
    "stopword_remover = stopword_factory.create_stop_word_remover()\n",
    "indonesian_stopwords = stopword_factory.get_stop_words()"
   ]
  },
  {
   "cell_type": "markdown",
   "metadata": {},
   "source": [
    "## 3.1. Preprocess Stopwords"
   ]
  },
  {
   "cell_type": "code",
   "execution_count": 38,
   "metadata": {},
   "outputs": [],
   "source": [
    "# Preprocessing function using Sastrawi\n",
    "def preprocessing(data):\n",
    "    data = data.lower()  # Lowercase conversion\n",
    "    data = re.sub(r'[^a-zA-Z\\s]', '', data)  # Remove special characters\n",
    "    data = stemmer.stem(data)  # Stemming (Bahasa Indonesia)\n",
    "    data = stopword_remover.remove(data)  # Remove stopwords (Bahasa Indonesia)\n",
    "    return data"
   ]
  },
  {
   "cell_type": "markdown",
   "metadata": {},
   "source": [
    "**💡 Explanation:**<br>\n",
    "> * **Lowercasing** `(data.lower())`:\n",
    ">   * Converts all characters to lowercase.\n",
    ">   * Prevents duplicate vectors for words like \"Museum\" and \"museum\".\n",
    ">\n",
    "> * **Removing Special Characters** `(re.sub(r'[^a-zA-Z\\\\s]', '', data))`:\n",
    ">   * Removes numbers, punctuation, and symbols.\n",
    ">   * Keeps only alphabetical characters and spaces.\n",
    ">   * Prevents vectorizer noise from irrelevant symbols.\n",
    ">\n",
    "> * **Stemming with Sastrawi** `(stemmer.stem(data))`:\n",
    ">   * Reduces words to their root forms (e.g., \"bermain\" → \"main\").\n",
    ">   * Essential for Bahasa Indonesia, where words have many affixes.\n",
    ">   * Reduces dimensionality and improves model performance.\n",
    ">\n",
    "> * **Stopword Removal** `(stopword_remover.remove(data))`:\n",
    ">   * Removes common words like \"dan\", \"di\", \"yang\".\n",
    ">   * Improves the TF-IDF signal by eliminating frequently occurring but unimportant words."
   ]
  },
  {
   "cell_type": "markdown",
   "metadata": {},
   "source": [
    "**❗ Notes:**<br>\n",
    "> This preprocessing is important to ensure the data quality for training the model.\n",
    "> * **Improves Accuracy:** Reduces noisy data before vectorization.\n",
    "> * **Optimizes TF-IDF:** Only meaningful words are weighted.\n",
    "> * **Reduces Overfitting:** Minimizes irrelevant features."
   ]
  },
  {
   "cell_type": "markdown",
   "metadata": {},
   "source": [
    "## 3.2. Add `Tags` Feature"
   ]
  },
  {
   "cell_type": "code",
   "execution_count": 39,
   "metadata": {},
   "outputs": [],
   "source": [
    "# Create a copy for content-based filtering\n",
    "df_content = df.copy()"
   ]
  },
  {
   "cell_type": "code",
   "execution_count": 40,
   "metadata": {},
   "outputs": [],
   "source": [
    "# Create 'Tags' from 'Description' and 'Category' (if both exist)\n",
    "if 'Category' in df_content.columns and 'Description' in df_content.columns:\n",
    "    df_content['Tags'] = (df_content['Description'] + ' ' + df_content['Category']).apply(preprocessing)\n",
    "elif 'Description' in df_content.columns:\n",
    "    df_content['Tags'] = df_content['Description'].apply(preprocessing)"
   ]
  },
  {
   "cell_type": "markdown",
   "metadata": {},
   "source": [
    "**💡 Explanation:**<br>\n",
    "> This step generates a `Tags` column by combining `Description` and `Category` (if both exist) and applying the `preprocessing()` function to clean the text. If only `Description` is available, it processes that alone. This **creates a concise, stemmed, and stopword-free text representation** for each tourist spot, which is crucial for content-based recommendations.\n",
    ">\n",
    "> Combining `Category` with `Description` enriches the text data, providing more context for the model. Even if descriptions are short or generic, categories add valuable signals, helping the model distinguish between similar places. This enriched textual feature **improves the effectiveness of similarity measurements using techniques like TF-IDF**, leading to more accurate recommendations."
   ]
  },
  {
   "cell_type": "code",
   "execution_count": 41,
   "metadata": {},
   "outputs": [],
   "source": [
    "# Drop unnecessary columns\n",
    "columns_to_drop = ['Price', 'Place_Ratings', 'Description', 'Lat', 'Long']\n",
    "df_content.drop(columns=[col for col in columns_to_drop if col in df_content.columns], axis=1, inplace=True)"
   ]
  },
  {
   "cell_type": "code",
   "execution_count": 42,
   "metadata": {},
   "outputs": [
    {
     "data": {
      "text/html": [
       "<div>\n",
       "<style scoped>\n",
       "    .dataframe tbody tr th:only-of-type {\n",
       "        vertical-align: middle;\n",
       "    }\n",
       "\n",
       "    .dataframe tbody tr th {\n",
       "        vertical-align: top;\n",
       "    }\n",
       "\n",
       "    .dataframe thead th {\n",
       "        text-align: right;\n",
       "    }\n",
       "</style>\n",
       "<table border=\"1\" class=\"dataframe\">\n",
       "  <thead>\n",
       "    <tr style=\"text-align: right;\">\n",
       "      <th></th>\n",
       "      <th>Place_Id</th>\n",
       "      <th>Place_Name</th>\n",
       "      <th>Category</th>\n",
       "      <th>City</th>\n",
       "      <th>Rating</th>\n",
       "      <th>Tags</th>\n",
       "    </tr>\n",
       "  </thead>\n",
       "  <tbody>\n",
       "    <tr>\n",
       "      <th>0</th>\n",
       "      <td>1</td>\n",
       "      <td>Monumen Nasional</td>\n",
       "      <td>Budaya</td>\n",
       "      <td>Jakarta</td>\n",
       "      <td>0.652174</td>\n",
       "      <td>monumen nasional populer singkat monas tugu mo...</td>\n",
       "    </tr>\n",
       "    <tr>\n",
       "      <th>1</th>\n",
       "      <td>2</td>\n",
       "      <td>Kota Tua</td>\n",
       "      <td>Budaya</td>\n",
       "      <td>Jakarta</td>\n",
       "      <td>0.652174</td>\n",
       "      <td>kota tua jakarta nama kota tua pusat alunalun ...</td>\n",
       "    </tr>\n",
       "    <tr>\n",
       "      <th>2</th>\n",
       "      <td>3</td>\n",
       "      <td>Dunia Fantasi</td>\n",
       "      <td>Taman Hiburan</td>\n",
       "      <td>Jakarta</td>\n",
       "      <td>0.652174</td>\n",
       "      <td>dunia fantasi sebut dufan tempat hibur letak k...</td>\n",
       "    </tr>\n",
       "    <tr>\n",
       "      <th>3</th>\n",
       "      <td>4</td>\n",
       "      <td>Taman Mini Indonesia Indah (TMII)</td>\n",
       "      <td>Taman Hiburan</td>\n",
       "      <td>Jakarta</td>\n",
       "      <td>0.565217</td>\n",
       "      <td>taman mini indonesia indah rupa suatu kawasan ...</td>\n",
       "    </tr>\n",
       "    <tr>\n",
       "      <th>4</th>\n",
       "      <td>5</td>\n",
       "      <td>Atlantis Water Adventure</td>\n",
       "      <td>Taman Hiburan</td>\n",
       "      <td>Jakarta</td>\n",
       "      <td>0.565217</td>\n",
       "      <td>atlantis water adventure kenal atlantis ancol ...</td>\n",
       "    </tr>\n",
       "  </tbody>\n",
       "</table>\n",
       "</div>"
      ],
      "text/plain": [
       "   Place_Id                         Place_Name       Category     City  \\\n",
       "0         1                   Monumen Nasional         Budaya  Jakarta   \n",
       "1         2                           Kota Tua         Budaya  Jakarta   \n",
       "2         3                      Dunia Fantasi  Taman Hiburan  Jakarta   \n",
       "3         4  Taman Mini Indonesia Indah (TMII)  Taman Hiburan  Jakarta   \n",
       "4         5           Atlantis Water Adventure  Taman Hiburan  Jakarta   \n",
       "\n",
       "     Rating                                               Tags  \n",
       "0  0.652174  monumen nasional populer singkat monas tugu mo...  \n",
       "1  0.652174  kota tua jakarta nama kota tua pusat alunalun ...  \n",
       "2  0.652174  dunia fantasi sebut dufan tempat hibur letak k...  \n",
       "3  0.565217  taman mini indonesia indah rupa suatu kawasan ...  \n",
       "4  0.565217  atlantis water adventure kenal atlantis ancol ...  "
      ]
     },
     "execution_count": 42,
     "metadata": {},
     "output_type": "execute_result"
    }
   ],
   "source": [
    "# Apply preprocessing to the 'Tags' column in your df_content\n",
    "df_content['Tags'] = df_content['Tags'].apply(preprocessing)\n",
    "\n",
    "# Display the dataframe to check the results\n",
    "df_content.head()"
   ]
  },
  {
   "cell_type": "markdown",
   "metadata": {},
   "source": [
    "**💡 Explanation:**<br>\n",
    "> In this step, the `preprocessing()` function is applied directly to the `Tags` column to **clean and normalize the text**. This ensures that all tags are lowercased, free of special characters, stemmed to their root forms, and stripped of stopwords. The result is a consistent and compact textual representation **suitable for vectorization**.\n",
    ">\n",
    "> By preprocessing `Tags`, the model focuses on meaningful terms while ignoring noise, which enhances the accuracy of similarity measurements using techniques like TF-IDF. This step is crucial for ensuring that the content-based filtering model identifies relevant patterns between tourist spots based on their descriptions and categories."
   ]
  },
  {
   "cell_type": "markdown",
   "metadata": {},
   "source": [
    "## 3.3. TF-IDF Vectorization"
   ]
  },
  {
   "cell_type": "code",
   "execution_count": null,
   "metadata": {},
   "outputs": [],
   "source": [
    "tv = TfidfVectorizer(\n",
    "    stop_words=indonesian_stopwords,\n",
    "    max_features=5000,\n",
    "    ngram_range=(1, 4), \n",
    "    min_df=2, \n",
    "    max_df=0.85,\n",
    "    sublinear_tf=True,\n",
    "    use_idf=True,\n",
    "    smooth_idf=True,\n",
    "    norm='l2'\n",
    ")"
   ]
  },
  {
   "cell_type": "markdown",
   "metadata": {},
   "source": [
    "**💡 Explanation:**<br>\n",
    "> In this step, we use `TfidfVectorizer` to convert the `Tags` column into **numerical vectors**, which represent the importance of words within each tourist spot's description. Several parameters are carefully configured to enhance the effectiveness of the vectorization process. There are a few parameters we specify:\n",
    "> * `stop_words=indonesian_stopwords`: Removes common words in Bahasa Indonesia. \n",
    "> * `ngram_range=(1,4)`: Captures single words and phrases up to 4 words (e.g., “pantai indah”, “pantai pasir putih”). This parameter helps identify related spots even with different wording.\n",
    "> * `max_features=5000`: Limits vocabulary size to 5,000 important terms and exclude rarely used terms.\n",
    "> * `min_df=2`: Ignores terms appearing in fewer than 2 spots.\n",
    "> * `max_df=0.85`: Removes overly frequent words.\n",
    "> * `sublinear_tf=True` and `smooth_idf=True`: Adjusts term frequencies, preventing frequent terms from dominating results\n",
    "> * `norm='l2'`: Normalizes vectors to have unit length, improving comparison."
   ]
  },
  {
   "cell_type": "code",
   "execution_count": 69,
   "metadata": {},
   "outputs": [
    {
     "name": "stdout",
     "output_type": "stream",
     "text": [
      "[0.42114967 0.24284771 0.21133485 0.20292422 0.20436595 0.21263291\n",
      " 0.20275551 0.20853848 0.20711209]\n"
     ]
    }
   ],
   "source": [
    "# TF-IDF on 'Content Similarity'\n",
    "content_tv = tv.fit_transform(df_content['Tags']).toarray()\n",
    "content_sim = cosine_similarity(content_tv)\n",
    "\n",
    "# TF-IDF on 'Category Similarity'\n",
    "category_tv = TfidfVectorizer()\n",
    "category_sim = cosine_similarity(category_tv.fit_transform(df_content['Category']))\n",
    "\n",
    "# TF-IDF on 'City Similarity'\n",
    "city_tv = TfidfVectorizer()\n",
    "city_sim = cosine_similarity(city_tv.fit_transform(df_content['City']))\n",
    "\n",
    "# Combine All Similarities (Multi-Feature Similarity)\n",
    "final_similarity = (\n",
    "    0.6 * content_sim +      # Content (Tags) has highest weight\n",
    "    0.2 * category_sim +     # Category adds contextual grouping\n",
    "    0.2 * city_sim           # City adds location-based relevance\n",
    ")\n",
    "\n",
    "# Check combined similarity for the first place\n",
    "print(final_similarity[0][1:10])"
   ]
  },
  {
   "cell_type": "markdown",
   "metadata": {},
   "source": [
    "**💡 Explanation:**<br>\n",
    "> This step computes similarity scores from content (`Tags`), `category`, and `city` and combines them into a single score using a weighted sum.\n",
    ">\n",
    "> First, content similarity (`content_sim`) is calculated from `Tags` using `TfidfVectorizer` and `cosine_similarity()`. It has the highest weight (60%) because it captures rich descriptive information.\n",
    ">\n",
    "> Next, category similarity (`category_sim`) and city similarity (`city_sim`) are computed from their respective columns, helping group places by type and location, each contributing 20% to the final score.\n",
    ">\n",
    "> The combined matrix (`final_similarity`) is a weighted average:\n",
    "> * **60% Content:** Focuses on descriptions and themes.\n",
    "> * **20% Category:** Groups similar types of attractions.\n",
    "> * **20% City:** Promotes location-based relevance.\n",
    ">\n",
    "> The printed output shows similarity scores between the first place and others, with values closer to **1 indicating stronger similarity**. This approach balances thematic, contextual, and location-based relevance for more accurate recommendations."
   ]
  },
  {
   "cell_type": "markdown",
   "metadata": {},
   "source": [
    "## 3.4. Export Dataset to CSV"
   ]
  },
  {
   "cell_type": "code",
   "execution_count": 70,
   "metadata": {},
   "outputs": [
    {
     "name": "stdout",
     "output_type": "stream",
     "text": [
      "Preprocessed data exported to 'content_based_dataset.csv'\n"
     ]
    }
   ],
   "source": [
    "df_content.to_csv('content_based_dataset.csv', index=False)\n",
    "print(\"Preprocessed data exported to 'content_based_dataset.csv'\")"
   ]
  },
  {
   "cell_type": "markdown",
   "metadata": {},
   "source": [
    "# 4. Split Train/Test Data"
   ]
  },
  {
   "cell_type": "code",
   "execution_count": 87,
   "metadata": {},
   "outputs": [],
   "source": [
    "train_df, test_df = train_test_split(df_content, test_size=0.2, random_state=42)"
   ]
  },
  {
   "cell_type": "code",
   "execution_count": 88,
   "metadata": {},
   "outputs": [],
   "source": [
    "for col in ['Category', 'City', 'Tags']:\n",
    "    train_df[col] = train_df[col].astype('category').cat.codes\n",
    "    test_df[col] = test_df[col].astype('category').cat.codes\n",
    "\n",
    "X_train = train_df.drop(columns=['Place_Name', 'Rating'])\n",
    "y_train = train_df['Rating']"
   ]
  },
  {
   "cell_type": "code",
   "execution_count": 96,
   "metadata": {},
   "outputs": [
    {
     "name": "stdout",
     "output_type": "stream",
     "text": [
      "Unmatched places from test set: 0\n"
     ]
    }
   ],
   "source": [
    "# Check how many test places exist in df_content\n",
    "test_places = set(test_df['Place_Name'].str.lower().str.strip())\n",
    "train_places = set(df_content['Place_Name'].str.lower().str.strip())\n",
    "\n",
    "unmatched = test_places - train_places\n",
    "print(f\"Unmatched places from test set: {len(unmatched)}\")"
   ]
  },
  {
   "cell_type": "markdown",
   "metadata": {},
   "source": [
    "**💡 Explanation:**<br>\n",
    "> This step ensures that all places in the test set also exist in the training set, which is crucial for generating accurate recommendations.\n",
    ">\n",
    "> This check helps prevent issues during evaluation, such as **index errors or zero-precision results**, by ensuring that all test places are known to the recommendation model."
   ]
  },
  {
   "cell_type": "markdown",
   "metadata": {},
   "source": [
    "# 5. Train Model"
   ]
  },
  {
   "cell_type": "code",
   "execution_count": 103,
   "metadata": {},
   "outputs": [],
   "source": [
    "df_content = df_content.reset_index(drop=True)\n",
    "X_train = X_train.reset_index(drop=True)\n"
   ]
  },
  {
   "cell_type": "markdown",
   "metadata": {},
   "source": [
    "**💡 Explanation:**<br>\n",
    "> This step resets the indices of both the training data (`X_train`) and the content dataset (`df_content`). Resetting indices is crucial for **ensuring that both datasets align correctly**, especially after data modifications such as filtering, merging, or splitting.\n",
    ">\n",
    "> Resetting indices prevents indexing errors during model training and ensures that recommendations remain correctly aligned with their original place information."
   ]
  },
  {
   "cell_type": "code",
   "execution_count": 104,
   "metadata": {},
   "outputs": [],
   "source": [
    "def reciprocal_rank_fusion(ranks, k=65, weights=None):\n",
    "    score_dict = {}\n",
    "    for idx, rank_list in enumerate(ranks):\n",
    "        weight = weights[idx] if weights else 1.0\n",
    "        for i, item in enumerate(rank_list):\n",
    "            score_dict[item] = score_dict.get(item, 0) + weight / (k + i + 1)\n",
    "    return sorted(score_dict.items(), key=lambda x: x[1], reverse=True)"
   ]
  },
  {
   "cell_type": "markdown",
   "metadata": {},
   "source": [
    "**💡 Explanation:**<br>\n",
    "> This function combines multiple ranked lists into a single ranking using **Reciprocal Rank Fusion (RRF)**. It assigns scores to items based on their ranks in each list, with higher-ranked items receiving more points. A weighted formula is applied to balance the influence of different ranking sources.\n",
    ">\n",
    "> RRF is useful because it blends multiple recommendation strategies, ensuring that items consistently ranked well across lists score higher. It is a simple, robust method for creating **a unified recommendation list** from various signals like content similarity, category relevance, and popularity."
   ]
  },
  {
   "cell_type": "code",
   "execution_count": 105,
   "metadata": {},
   "outputs": [],
   "source": [
    "def recommend_places(nama_tempat, num_recommendations=5):\n",
    "    match = df_content[df_content['Place_Name'] == nama_tempat]\n",
    "    if match.empty:\n",
    "        return []\n",
    "\n",
    "    nama_tempat_index = match.index[0]\n",
    "\n",
    "    # Rank by Content\n",
    "    content_rank = sorted(\n",
    "        range(len(df_content)),\n",
    "        key=lambda x: final_similarity[nama_tempat_index, x],\n",
    "        reverse=True\n",
    "    )\n",
    "\n",
    "    # Rank by Category\n",
    "    category_rank = sorted(\n",
    "        range(len(df_content)),\n",
    "        key=lambda x: category_sim[nama_tempat_index, x],\n",
    "        reverse=True\n",
    "    )\n",
    "\n",
    "    # Rank by Popularity (Review_Count)\n",
    "    popularity_rank = sorted(\n",
    "        range(len(df_content)),\n",
    "        key=lambda x: df_content.iloc[x].get('Review_Count', 0),\n",
    "        reverse=True\n",
    "    )\n",
    "\n",
    "    # Rank by Rating\n",
    "    rating_rank = sorted(\n",
    "        range(len(df_content)),\n",
    "        key=lambda x: df_content.iloc[x].get('Rating', 0),\n",
    "        reverse=True\n",
    "    )\n",
    "\n",
    "    # Combine Rankings with RRF\n",
    "    fused_rank = reciprocal_rank_fusion(\n",
    "        [content_rank, category_rank, popularity_rank, rating_rank],\n",
    "        weights=[0.55, 0.20, 0.15, 0.10]\n",
    "    )\n",
    "    \n",
    "    # Return top recommendations\n",
    "    recommended_places = [\n",
    "        df_content.iloc[i[0]].Place_Name \n",
    "        for i in fused_rank[1:num_recommendations+1]\n",
    "    ]\n",
    "    return recommended_places\n"
   ]
  },
  {
   "cell_type": "markdown",
   "metadata": {},
   "source": [
    "**💡 Explanation:**<br>\n",
    "> This function generates recommendations by ranking tourist spots based on multiple factors and combining them using **Reciprocal Rank Fusion (RRF)**.\n",
    ">\n",
    "> * **Find Place Index:**\n",
    "> Searches for the input place (`nama_tempat`) in `df_content` and retrieves its index.\n",
    ">\n",
    "> * **Generate Individual Rankings:**\n",
    ">   * **Content Rank:** Based on multi-feature similarity (`final_similarity`).\n",
    ">   * **Category Rank:** Based on category similarity (`category_sim`).\n",
    ">   * **Popularity Rank:** Based on the number of reviews (`Review_Count`).\n",
    ">   * **Rating Rank:** Based on user ratings (`Rating`).\n",
    ">\n",
    "> * **Combine with RRF:**\n",
    "> Merges the four rankings using `reciprocal_rank_fusion()` with assigned weights:\n",
    ">   * **55% Content:** Main factor focusing on descriptive similarity.\n",
    ">   * **20% Category:** Groups similar types of places.\n",
    ">   * **15% Popularity:** Highlights well-reviewed spots.\n",
    ">   * **10% Rating:** Adds user experience feedback.\n",
    "> \n",
    "> * **Return Top Results:**\n",
    "> Outputs the top recommendations (excluding the input place itself)."
   ]
  },
  {
   "cell_type": "markdown",
   "metadata": {},
   "source": [
    "**❗ Notes:**<br>\n",
    "> The popularity rank is weighted higher than the rating rank because popularity (based on the number of reviews) is **generally a more reliable indicator of user engagement and relevance**. A spot with a high number of reviews reflects consistent interest and visitor experience, while a high rating with few reviews may be statistically insignificant or biased. This decision is based on the principle that volume of feedback often provides a stronger signal than isolated opinions.\n",
    ">\n",
    "> Additionally, the assigned weights were **fine-tuned through multiple iterations**, using empirical testing and evaluation based on both **Precision@5** and **MAP@5**. Several weight combinations were tested, and the current configuration represents the best-performing balance, achieving the highest scores for both metrics. This data-driven adjustment ensures that the model is optimized for both accuracy (precision) and ranking quality (MAP), making the recommendation system more effective and reliable."
   ]
  },
  {
   "cell_type": "markdown",
   "metadata": {},
   "source": [
    "# 6. Evaluate Model"
   ]
  },
  {
   "cell_type": "code",
   "execution_count": 110,
   "metadata": {},
   "outputs": [],
   "source": [
    "# Use RRF for recommendations only\n",
    "def precision_at_5(test_df):\n",
    "    relevant_count = 0\n",
    "    total = len(test_df)\n",
    "    for _, row in test_df.iterrows():\n",
    "        actual = row['Place_Name']\n",
    "        recommended = recommend_places(actual, 5)  # Use RRF-based recommendations\n",
    "        if actual in recommended:\n",
    "            relevant_count += 1\n",
    "    return relevant_count / total if total > 0 else 0\n",
    "\n",
    "def mean_average_precision_at_k(test_df, k=5, show_samples=5):\n",
    "    average_precisions = []\n",
    "\n",
    "    print(\"\\n📊 Sample of Recommendations:\")\n",
    "    sample_count = 0\n",
    "\n",
    "    for _, row in test_df.iterrows():\n",
    "        actual = row['Place_Name']\n",
    "        recommended = recommend_places(actual, k)\n",
    "        \n",
    "        hits = [1 if rec == actual else 0 for rec in recommended]\n",
    "        precisions = [sum(hits[:i+1])/(i+1) for i in range(len(hits)) if hits[i] == 1]\n",
    "        average_precisions.append(sum(precisions) / sum(hits) if sum(hits) > 0 else 0)\n",
    "        \n",
    "        if sample_count < show_samples:\n",
    "            print(f\"\\nActual: {actual}\")\n",
    "            print(f\"Top-{k} Recommendations: {recommended}\")\n",
    "            print(f\"Hits: {hits}\")\n",
    "            print(f\"Precisions: {precisions}\")\n",
    "            sample_count += 1\n",
    "\n",
    "    map_score = sum(average_precisions) / len(average_precisions) if average_precisions else 0\n",
    "    return map_score\n"
   ]
  },
  {
   "cell_type": "markdown",
   "metadata": {},
   "source": [
    "**💡 Explanation:**<br>\n",
    "> This code evaluates the recommendation system using `Precision@5` and `MAP@5` (**Mean Average Precision at 5**), which measure **accuracy and ranking quality**, respectively.\n",
    ">\n",
    "> * `Precision@5`: Calculates how often the actual place appears in the top 5 recommendations. It counts correct matches and divides them by the total test cases. This metric reflects how **accurately the system delivers relevant results upfront**, which is crucial for user satisfaction.\n",
    ">\n",
    "> * `MAP@5`: Evaluates the **quality of ranking** by averaging precision scores at each correct recommendation. It rewards models that **list relevant places higher in the ranking**, providing a more detailed measure of ranking performance. The function also prints sample recommendations, displaying hits and their corresponding precision scores.\n",
    ">\n",
    "> Together, these metrics ensure the model is optimized for both accuracy (`Precision@5`) and ranking quality (`MAP@5`), offering a **well-rounded performance assessment**."
   ]
  },
  {
   "cell_type": "code",
   "execution_count": 113,
   "metadata": {},
   "outputs": [
    {
     "name": "stdout",
     "output_type": "stream",
     "text": [
      "\n",
      "📊 Sample of Recommendations:\n",
      "\n",
      "Actual: Monumen Kapal Selam\n",
      "Top-5 Recommendations: ['Museum Nasional', 'Monumen Selamat Datang', 'Museum Sumpah Pemuda', 'Monumen Tugu Pahlawan', 'Museum Bank Indonesia']\n",
      "Hits: [0, 0, 0, 0, 0]\n",
      "Precisions: []\n",
      "\n",
      "Actual: Taman Spathodea\n",
      "Top-5 Recommendations: ['Dunia Fantasi', 'Taman Impian Jaya Ancol', 'Taman Menteng', 'Taman Spathodea', 'Taman Mini Indonesia Indah (TMII)']\n",
      "Hits: [0, 0, 0, 1, 0]\n",
      "Precisions: [0.25]\n",
      "\n",
      "Actual: Masjid Agung Trans Studio Bandung\n",
      "Top-5 Recommendations: ['Masjid Agung Trans Studio Bandung', 'Masjid Raya Bandung', 'Masjid Daarut Tauhiid Bandung', 'Masjid Salman ITB', 'Gereja Katedral Santo Petrus Bandung']\n",
      "Hits: [1, 0, 0, 0, 0]\n",
      "Precisions: [1.0]\n",
      "\n",
      "Actual: Sungai Palayangan\n",
      "Top-5 Recommendations: ['Sungai Palayangan', 'Sunrise Point Cukul', 'Situ Cileunca', 'Situ Patenggang', 'Kebun Binatang Bandung']\n",
      "Hits: [1, 0, 0, 0, 0]\n",
      "Precisions: [1.0]\n",
      "\n",
      "Actual: Taman Kupu-Kupu Cihanjuang\n",
      "Top-5 Recommendations: ['Taman Kupu-Kupu Cihanjuang', 'Happyfarm Ciwidey', 'Sunrise Point Cukul', 'Pemandian Air Panas Cimanggu', 'Taman Bunga Cihideung']\n",
      "Hits: [1, 0, 0, 0, 0]\n",
      "Precisions: [1.0]\n",
      "\n",
      "🏆 Overall MAP@5: 0.51\n",
      "🎯 Overall Precision@5: 0.72\n"
     ]
    }
   ],
   "source": [
    "# Check MAP@5\n",
    "map_score = mean_average_precision_at_k(test_df, 5)\n",
    "print(f\"\\n🏆 Overall MAP@{5}: {map_score:.2f}\")\n",
    "\n",
    "# Check Precision@5\n",
    "precision = precision_at_5(test_df)\n",
    "print(f\"🎯 Overall Precision@{5}: {precision:.2f}\")"
   ]
  },
  {
   "cell_type": "markdown",
   "metadata": {},
   "source": [
    "## **📊 Output Analysis:** Recommendation System Performance (`Precision@5` & `MAP@5`)<br>\n",
    "> This output displays sample recommendations from the system along with evaluation scores for `MAP@5` and `Precision@5`, providing insight into its ranking accuracy and overall effectiveness.\n",
    ">\n",
    "> 📈 **Sample Analysis:**\n",
    "> * For \"Monumen Kapal Selam\", none of the top 5 recommendations matched the actual place (`Hits: [0,0,0,0,0]`), showing a potential weakness in identifying similar landmarks.\n",
    "> * For \"Taman Spathodea\", the model found a correct hit but only in the 4th position (`Precision: 0.25`), indicating that although relevant results are found, their ranking could improve.\n",
    "> * For places like \"Masjid Agung Trans Studio Bandung\", \"Sungai Palayangan\", and \"Taman Kupu-Kupu Cihanjuang\", the model achieved perfect result (`precision: 1.0`), placing the correct results at the top.\n",
    ">\n",
    "> 🎯 Overall Evaluation:\n",
    "> * `Precision@5 = 0.72` means that 72% of test places appeared in the top 5 recommendations, demonstrating strong overall accuracy.\n",
    "> * `MAP@5 = 0.51` indicates that, on average, correct places were well-ranked but with room for improvement in ordering results."
   ]
  }
 ],
 "metadata": {
  "kernelspec": {
   "display_name": "Python 3",
   "language": "python",
   "name": "python3"
  },
  "language_info": {
   "codemirror_mode": {
    "name": "ipython",
    "version": 3
   },
   "file_extension": ".py",
   "mimetype": "text/x-python",
   "name": "python",
   "nbconvert_exporter": "python",
   "pygments_lexer": "ipython3",
   "version": "3.13.0"
  }
 },
 "nbformat": 4,
 "nbformat_minor": 2
}
